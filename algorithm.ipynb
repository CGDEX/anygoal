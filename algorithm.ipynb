{
 "cells": [
  {
   "cell_type": "code",
   "execution_count": null,
   "id": "8359b7e2",
   "metadata": {},
   "outputs": [],
   "source": [
    "!pip install python-docx"
   ]
  },
  {
   "cell_type": "code",
   "execution_count": null,
   "id": "5b6d9abb",
   "metadata": {
    "code_folding": [
     18,
     25
    ]
   },
   "outputs": [],
   "source": [
    "import pandas as pd\n",
    "import numpy as np\n",
    "import warnings\n",
    "import random\n",
    "from multiprocessing import Process, Manager\n",
    "warnings.filterwarnings(\"ignore\")\n",
    "\n",
    "available_players = [\"nsilva\", \"guest_cgomes\", \"guest_gregs\", \n",
    "                     \"rpinheiro\", \"ggomes\", \"guest_jpab\", \n",
    "                     \"pduarte\", \"jsilva\", 'apimenta', 'guest_tymoschuk']\n",
    "\n",
    "anygoal_data = pd.read_csv(\"anygoal_season_2022_resume.csv\")\n",
    "\n",
    "anybrain_df = pd.read_excel(\"players_03_23.xlsx\", engine='openpyxl')\n",
    "\n",
    "player_stats = ['Ataque', 'Tecnica', 'Tatica', 'Defesa', 'Criatividade',\n",
    "                'Fisico', 'GK', 'Overall', 'Overall_No_GK', 'Point_System']"
   ]
  },
  {
   "cell_type": "code",
   "execution_count": null,
   "id": "2aee3789",
   "metadata": {},
   "outputs": [],
   "source": [
    "def add_guest_player(anybrain_df):\n",
    "    # Get the new players\n",
    "    new_players = list(set(available_players) - set(anybrain_df.Nome.tolist()))\n",
    "    # Get the similar player\n",
    "    similar_players = [input(\"Who does {} look like? \".format(player)) for player in new_players]\n",
    "                         \n",
    "    for player, guest in zip(similar_players, new_players):\n",
    "        # Create a copy of the similar player\n",
    "        player_data = anybrain_df[anybrain_df.Nome == player].copy()\n",
    "        # Change the player name\n",
    "        player_data.loc[(player_data.Nome == player), \"Nome\"] = guest\n",
    "        # Add the new row\n",
    "        anybrain_df = anybrain_df.append(player_data.to_dict('records')[0], ignore_index=True)\n",
    "        \n",
    "        # Give any note on the player\n",
    "        player_note = input(\"Any note on the player? \").upper().split()\n",
    "        if (any([True if (x not in player_note) else False for x in [\"NO\", \"NONE\", \"NEGATIVE\"]])):\n",
    "            for stat in player_stats[:-3]:\n",
    "                # Check what situation occurs\n",
    "                if ((stat.upper() in player_note) and ('Better'.upper() in player_note)):\n",
    "                    anybrain_df.loc[(anybrain_df.Nome == guest), stat] += 1\n",
    "\n",
    "                elif ((stat.upper() in player_note) and ('Worse'.upper() in player_note)):\n",
    "                    anybrain_df.loc[(anybrain_df.Nome == guest), stat] -= 1\n",
    "        \n",
    "                else:\n",
    "                    pass\n",
    "                \n",
    "        # Upda the overall values\n",
    "        aux = anybrain_df[(anybrain_df.Nome == guest)]\n",
    "        anybrain_df.loc[(anybrain_df.Nome == guest), 'Overall'] = aux[player_stats[:-3]].mean(axis=1)\n",
    "        anybrain_df.loc[(anybrain_df.Nome == guest), 'Overall_No_GK'] = aux[player_stats[:-4]].mean(axis=1)\n",
    "    \n",
    "    return anybrain_df, new_players\n",
    "        \n",
    "def treat_and_merge(anybrain_df, anygoal_data):\n",
    "    anybrain_df.set_index('Unnamed: 0', inplace=True)\n",
    "    anybrain_df = anybrain_df.T.reset_index()\n",
    "    anybrain_df.columns = ['Nome', 'Ataque', 'Tecnica', 'Tatica', 'Defesa', 'Criatividade', \n",
    "                           'Fisico', 'GK', 'Overall', 'Overall_No_GK']\n",
    "    anybrain_df = anybrain_df[~anybrain_df.Nome.str.contains(\"Unnamed:\")]\n",
    "    anybrain_df.index.name = None\n",
    "    anybrain_df.Nome.replace({'Jpab' : 'guest_jpab', 'J lopes' : 'guest_jlopes', 'carlos' : 'guest_cgomes', \n",
    "                              'Mineiro' : 'nsilva', 'Nelo' : 'esousa', 'Ze' : 'jsilva', 'Fintas' : 'spinto', \n",
    "                              'Pimenta' : 'apimenta', 'Xerife' : 'rpinheiro', 'Champion' : 'pduarte', \n",
    "                              'Gus' : 'ggomes', 'Costeira' : 'gcosteira', 'Flash' : 'guest_flash', \n",
    "                              'random' : 'guest_random', \"anguyen\" : 'ahn-vu', \"gregs\" : \"guest_gregs\"}, inplace=True)\n",
    "    \n",
    "    # Add the guest player to the bd, and his values will be the most similar to a specific player\n",
    "    anybrain_df, new_players = add_guest_player(anybrain_df)\n",
    "    for player in new_players:\n",
    "        if (player not in anygoal_data.Player.unique()):\n",
    "            anygoal_data = anygoal_data.append({'Player' : \"{}\".format(player), 'Games' : 0, 'MVP' : 0, 'MVP_%' : 0,\n",
    "                                                'Victories' : 0, 'Losses' : 0, 'Victories_%' : 0, 'Goals' : 0,\n",
    "                                                'Goals/Games' : 0, 'Team_Goals' : 0, 'Team_Suffered' : 0,\n",
    "                                                'Team_Influence' : 0, 'Team_Goals/Games' : 0, 'Team_Suffered/Games' : 0,\n",
    "                                                'Biggest_W_Streak' : 0, 'Biggest_L_Streak' : 0, 'Point_System' : 0}, ignore_index = True)\n",
    "\n",
    "    # Merge the anybrain_df with anygoal\n",
    "    merged_df = anybrain_df.merge(anygoal_data, left_on='Nome', right_on='Player')\n",
    "    merged_df.drop(['Unnamed: 0', 'Player', 'MVP_%', 'Victories', 'Losses', 'Victories_%', \n",
    "                    'Goals/Games', 'Team_Goals', 'Team_Suffered', 'Team_Influence', 'Team_Goals/Games', \n",
    "                    'Team_Suffered/Games', 'Biggest_W_Streak', 'Biggest_L_Streak'], axis=1, inplace=True)\n",
    "    \n",
    "    return merged_df"
   ]
  },
  {
   "cell_type": "code",
   "execution_count": null,
   "id": "c93c6834",
   "metadata": {},
   "outputs": [],
   "source": [
    "merged_df = treat_and_merge(anybrain_df, anygoal_data)"
   ]
  },
  {
   "cell_type": "code",
   "execution_count": null,
   "id": "acdaf56f",
   "metadata": {},
   "outputs": [],
   "source": [
    "data_players = merged_df.loc[merged_df.Nome.isin(available_players), :]\n",
    "data_players"
   ]
  },
  {
   "cell_type": "code",
   "execution_count": null,
   "id": "69326152",
   "metadata": {
    "code_folding": []
   },
   "outputs": [],
   "source": [
    "def split_df(df):\n",
    "    half_length = df.shape[0] // 2\n",
    "    df1 = df.iloc[:half_length, :]\n",
    "    df2 = df.iloc[half_length:, :]\n",
    "    return df1, df2\n",
    "\n",
    "def teams_conditions(mean_1, mean_2):   \n",
    "    mean_1_2 = mean_1.subtract(mean_2).abs()\n",
    "    mean_condition = [(mean_1_2.Point_System < 0.4)]+[(mean_1_2[x]< 0.35) for x in player_stats[:-1]]\n",
    "    return mean_condition, mean_1_2[player_stats].sum()\n",
    "\n",
    "def balance_dfs(df1, df2, counter, final_list):\n",
    "    for _ in range(counter):\n",
    "        # Generate a random value\n",
    "        i1 = np.random.randint(df1.shape[0])\n",
    "        i2 = np.random.randint(df2.shape[0])\n",
    "        \n",
    "        # Switch players based on the random index\n",
    "        row1, row2 = df1.iloc[i1,:], df2.iloc[i2,:]\n",
    "        df1.iloc[i1, :] = row2.values\n",
    "        df2.iloc[i2, :] = row1.values\n",
    "        \n",
    "        # Calculate the mean & the team conditions\n",
    "        df_mean1 = df1.mean()\n",
    "        df_mean2 = df2.mean()\n",
    "        condition, sum_difference = teams_conditions(df_mean1, df_mean2)\n",
    "        val = sum(bool(x) for x in condition)\n",
    "\n",
    "        A = df1.Nome.values.tolist()\n",
    "        A.sort()\n",
    "        \n",
    "        B = df2.Nome.values.tolist()\n",
    "        B.sort()\n",
    "        \n",
    "        # Append the iteration dict to the shared list\n",
    "        final_list.append({\"Sum_Abs_Difference\" : sum_difference,\n",
    "                           \"N_Conditions\" : val,\n",
    "                           \"A_team\" : ' '.join(A),\n",
    "                           \"B_team\" : ' '.join(B)})\n",
    "        \n",
    "\n",
    "def parallel_algorithm(df, n_process=8):\n",
    "    # Split the dataframe into 2\n",
    "    df1, df2 = split_df(df)\n",
    "    \n",
    "    # Split the iterations between the available processes\n",
    "    counter = int(4000/n_process)\n",
    "    \n",
    "    # Create a list that will contain the final dataframe\n",
    "    final_list = Manager().list([])\n",
    "    processes = []\n",
    "\n",
    "    for _ in range(n_process):\n",
    "        # Set the process to work on the \"balance_dfs\" function\n",
    "        p = Process(target=balance_dfs, args=(df1, df2, counter, final_list))\n",
    "        processes.append(p)\n",
    "        p.start()\n",
    "\n",
    "    # completing process\n",
    "    for p in processes:\n",
    "        p.join()\n",
    "        \n",
    "    return pd.DataFrame.from_records(final_list).drop_duplicates(subset=['A_team'])"
   ]
  },
  {
   "cell_type": "code",
   "execution_count": null,
   "id": "ffcaa946",
   "metadata": {},
   "outputs": [],
   "source": [
    "df = parallel_algorithm(data_players, n_process=8)\n",
    "df.to_csv('combination.csv', index=False)"
   ]
  },
  {
   "cell_type": "code",
   "execution_count": null,
   "id": "7b4a33ae",
   "metadata": {},
   "outputs": [],
   "source": [
    "def get_best_combination(df):\n",
    "    max_conditions = df[df[\"N_Conditions\"] == df[\"N_Conditions\"].max()]\n",
    "    min_difference = max_conditions[max_conditions[\"Sum_Abs_Difference\"] == max_conditions[\"Sum_Abs_Difference\"].min()]\n",
    "    \n",
    "    return min_difference[\"A_team\"].iloc[0].split(), min_difference[\"B_team\"].iloc[0].split()"
   ]
  },
  {
   "cell_type": "code",
   "execution_count": null,
   "id": "ce661564",
   "metadata": {},
   "outputs": [],
   "source": [
    "get_best_combination(df)"
   ]
  },
  {
   "cell_type": "code",
   "execution_count": null,
   "id": "1eb0c187",
   "metadata": {},
   "outputs": [],
   "source": [
    "A, B = get_best_combination(df)\n",
    "\n",
    "tmp = [\"Jogador_1\", \"Jogador_2\", \"Jogador_3\", \"Jogador_4\", \"Jogador_5\", \"Jogador_6\", \"Jogador_7\", \"Jogador_8\", \"Jogador_9\", \"Jogador_10\"]\n",
    "tmp2 = A + B\n",
    "\n",
    "full_players = dict(zip(tmp,tmp2))\n"
   ]
  },
  {
   "cell_type": "code",
   "execution_count": null,
   "id": "9a7854dc",
   "metadata": {},
   "outputs": [],
   "source": [
    "import os \n",
    "\n",
    "# Meti isto a apagar o ficheiro caso já existe, porque se existir, isto vai dar um erro qualquer de permissões \n",
    "\n",
    "if os.path.exists(\"./Anygoal_Template.docx\"):\n",
    "    os.remove(\"./Anygoal_Template.docx\")"
   ]
  },
  {
   "cell_type": "code",
   "execution_count": null,
   "id": "c3005af4",
   "metadata": {},
   "outputs": [],
   "source": [
    "import docx\n",
    "from docx.shared import Pt\n",
    "\n",
    "\n",
    "doc = docx.Document(\"./template/Anygoal_Template.docx\")\n",
    "\n",
    "\n",
    "for table in doc.tables:\n",
    "    for row in table.rows:\n",
    "        for cell in row.cells:\n",
    "            if cell.text in full_players:\n",
    "                cell.text = cell.text.replace(cell.text, full_players[cell.text])\n",
    "\n",
    "\n",
    "doc.save(\"./Anygoal_Template.docx\")\n"
   ]
  }
 ],
 "metadata": {
  "kernelspec": {
   "display_name": "Python 3",
   "language": "python",
   "name": "python3"
  },
  "language_info": {
   "codemirror_mode": {
    "name": "ipython",
    "version": 3
   },
   "file_extension": ".py",
   "mimetype": "text/x-python",
   "name": "python",
   "nbconvert_exporter": "python",
   "pygments_lexer": "ipython3",
   "version": "3.6.13"
  }
 },
 "nbformat": 4,
 "nbformat_minor": 5
}
