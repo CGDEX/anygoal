{
 "cells": [
  {
   "cell_type": "code",
   "execution_count": null,
   "id": "dfedf4f6",
   "metadata": {},
   "outputs": [],
   "source": [
    "!pip install openpyxl\n",
    "!pip install python-docx"
   ]
  },
  {
   "cell_type": "code",
   "execution_count": null,
   "id": "37be9912",
   "metadata": {
    "code_folding": [
     18,
     25
    ]
   },
   "outputs": [],
   "source": [
    "import pandas as pd\n",
    "import numpy as np\n",
    "import warnings\n",
    "import random\n",
    "warnings.filterwarnings(\"ignore\")\n",
    "\n",
    "available_players = [\"nsilva\", \"spinto\", \"apimenta\", \"rpinheiro\", \"ggomes\",\n",
    "                     \"guest_random\", \"guest_jlopes\", \"pduarte\", \"guest_cgomes\", \"jsilva\"]\n",
    "\n",
    "anygoal_data = pd.read_csv(\"anygoal_season_2022_resume.csv\")\n",
    "\n",
    "anybrain_df = pd.read_excel(\"players_01_22.xlsx\")\n",
    "anybrain_df.drop([7], axis=0, inplace=True)\n",
    "anybrain_df.set_index('Unnamed: 0', inplace=True)\n",
    "anybrain_df = anybrain_df.T.reset_index()\n",
    "anybrain_df.columns = ['Nome', 'Ataque', 'Tecnica', 'Tatica', 'Defesa', 'Criatividade', \n",
    "                       'Fisico', 'GK', 'Overall', 'Overall_No_GK']\n",
    "anybrain_df.index.name = None\n",
    "anybrain_df.Nome.replace({'Jpab' : 'guest_jpab', 'J lopes' : 'guest_jlopes', 'carlos' : 'guest_cgomes', \n",
    "                          'Mineiro' : 'nsilva', 'Nelo' : 'esousa', 'Ze' : 'jsilva', 'Fintas' : 'spinto', \n",
    "                          'Pimenta' : 'apimenta', 'Xerife' : 'rpinheiro', 'Champion' : 'pduarte', \n",
    "                          'Gus' : 'ggomes', 'Costeira' : 'gcosteira', 'Flash' : 'guest_flash', 'random' : 'guest_random'}, inplace=True)\n",
    "\n",
    "# Merge the anybrain_df with anygoal\n",
    "merged_df = anybrain_df.merge(anygoal_data, left_on='Nome', right_on='Player')\n",
    "merged_df.drop(['Unnamed: 0', 'Player', 'MVP_%', 'Victories', 'Losses', 'Victories_%', \n",
    "                'Goals/Games', 'Team_Goals', 'Team_Suffered', 'Team_Influence', 'Team_Goals/Games', \n",
    "                'Team_Suffered/Games', 'Biggest_W_Streak', 'Biggest_L_Streak'], axis=1, inplace=True)\n",
    "\n",
    "player_stats = ['Ataque', 'Tecnica', 'Tatica', 'Defesa', 'Criatividade',\n",
    "                'Fisico', 'GK', 'Overall', 'Overall_No_GK', 'Point_System']"
   ]
  },
  {
   "cell_type": "code",
   "execution_count": null,
   "id": "0b43dd5d",
   "metadata": {},
   "outputs": [],
   "source": [
    "data_players = merged_df.loc[merged_df.Nome.isin(available_players), :]\n",
    "data_players"
   ]
  },
  {
   "cell_type": "markdown",
   "id": "70d6cce5",
   "metadata": {},
   "source": [
    "# First Version"
   ]
  },
  {
   "cell_type": "code",
   "execution_count": null,
   "id": "e9d95130",
   "metadata": {
    "code_folding": []
   },
   "outputs": [],
   "source": [
    "def get_stats(df):\n",
    "    return df.mean(), df.median()\n",
    "\n",
    "def split_df(df):\n",
    "    half_length = df.shape[0] // 2\n",
    "    df1 = df.iloc[:half_length, :]\n",
    "    df2 = df.iloc[half_length:, :]\n",
    "    return df1, df2\n",
    "\n",
    "def teams_conditions(mean_1, mean_2, median_1, median_2):   \n",
    "    mean_1_2 = mean_1.subtract(mean_2).abs()\n",
    "    median_1_2 = median_1.subtract(median_2).abs()\n",
    "    \n",
    "    mean_condition = [(mean_1_2.Point_System < 1.1)]+[(mean_1_2[x]< 0.69) for x in player_stats]\n",
    "    median_condition = [(median_1_2.Point_System < 1.1)]+[(median_1_2[x]< 0.69) for x in player_stats]\n",
    "    \n",
    "    return (all(mean_condition) or all(median_condition))\n",
    "\n",
    "def balance_dfs(df):\n",
    "    df1, df2 = split_df(df)\n",
    "    \n",
    "    df_mean1, df_median1 = get_stats(df1)\n",
    "    df_mean2, df_median2 = get_stats(df2)\n",
    "    counter = 20000\n",
    "    while (not teams_conditions(df_mean1, df_mean2, df_median1, df_median2)):\n",
    "        i1 = np.random.randint(df1.shape[0])\n",
    "        i2 = np.random.randint(df2.shape[0])\n",
    "        row1, row2 = df1.iloc[i1, :], df2.iloc[i2, :]\n",
    "        df1.iloc[i1, :] = row2.values\n",
    "        df2.iloc[i2, :] = row1.values\n",
    "        df_mean1, df_median1 = get_stats(df1)\n",
    "        df_mean2, df_median2 = get_stats(df2)\n",
    "        \n",
    "        if counter > 0:\n",
    "            counter -= 1\n",
    "        else:\n",
    "            print(\"After 20k combinations, i couldn't satisfy the conditions\")\n",
    "            break\n",
    "            \n",
    "    return df1, df2"
   ]
  },
  {
   "cell_type": "code",
   "execution_count": null,
   "id": "7572a1c2",
   "metadata": {},
   "outputs": [],
   "source": [
    "df1, df2 = balance_dfs(data_players)"
   ]
  },
  {
   "cell_type": "code",
   "execution_count": null,
   "id": "a1db2ae2",
   "metadata": {},
   "outputs": [],
   "source": [
    "print(df1.Nome.values)\n",
    "df1.describe()"
   ]
  },
  {
   "cell_type": "code",
   "execution_count": null,
   "id": "a29e0733",
   "metadata": {},
   "outputs": [],
   "source": [
    "print(df2.Nome.values)\n",
    "df2.describe()"
   ]
  },
  {
   "cell_type": "code",
   "execution_count": null,
   "id": "1eb0c187",
   "metadata": {},
   "outputs": [],
   "source": [
    "tmp = [\"Jogador_1\", \"Jogador_2\", \"Jogador_3\", \"Jogador_4\", \"Jogador_5\", \"Jogador_6\", \"Jogador_7\", \"Jogador_8\", \"Jogador_9\", \"Jogador_10\"]\n",
    "tmp2 = df2.Nome.values.tolist() + df1.Nome.values.tolist()\n",
    "\n",
    "full_players = dict(zip(tmp,tmp2))\n"
   ]
  },
  {
   "cell_type": "code",
   "execution_count": null,
   "id": "9a7854dc",
   "metadata": {},
   "outputs": [],
   "source": [
    "import os \n",
    "\n",
    "# Meti isto a apagar o ficheiro caso já existe, porque se existir, isto vai dar um erro qualquer de permissões \n",
    "\n",
    "if os.path.exists(\"./Anygoal_Template.docx\"):\n",
    "    os.remove(\"./Anygoal_Template.docx\")"
   ]
  },
  {
   "cell_type": "code",
   "execution_count": null,
   "id": "c3005af4",
   "metadata": {},
   "outputs": [],
   "source": [
    "import docx\n",
    "from docx.shared import Pt\n",
    "\n",
    "\n",
    "doc = docx.Document(\"./template/Anygoal_Template.docx\")\n",
    "\n",
    "\n",
    "for table in doc.tables:\n",
    "    for row in table.rows:\n",
    "        for cell in row.cells:\n",
    "            if cell.text in full_players:\n",
    "                cell.text = cell.text.replace(cell.text, full_players[cell.text])\n",
    "\n",
    "\n",
    "doc.save(\"./Anygoal_Template.docx\")\n"
   ]
  }
 ],
 "metadata": {
  "kernelspec": {
   "display_name": "Python 3",
   "language": "python",
   "name": "python3"
  },
  "language_info": {
   "codemirror_mode": {
    "name": "ipython",
    "version": 3
   },
   "file_extension": ".py",
   "mimetype": "text/x-python",
   "name": "python",
   "nbconvert_exporter": "python",
   "pygments_lexer": "ipython3",
   "version": "3.10.9"
  }
 },
 "nbformat": 4,
 "nbformat_minor": 5
}
